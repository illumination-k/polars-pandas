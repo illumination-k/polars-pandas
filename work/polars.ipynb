{
 "cells": [
  {
   "cell_type": "markdown",
   "metadata": {},
   "source": [
    "# Polars\n",
    "## Install polars"
   ]
  },
  {
   "cell_type": "code",
   "execution_count": 5,
   "metadata": {},
   "outputs": [],
   "source": [
    ":dep polars = { version = \"0.14.7\", features = [\"ndarray\", \"random\"]}"
   ]
  },
  {
   "cell_type": "code",
   "execution_count": 6,
   "metadata": {},
   "outputs": [],
   "source": [
    "#[macro_use]\n",
    "extern crate polars;\n",
    "use polars::prelude::*;"
   ]
  },
  {
   "cell_type": "markdown",
   "metadata": {},
   "source": [
    "## 演算"
   ]
  },
  {
   "cell_type": "code",
   "execution_count": 7,
   "metadata": {},
   "outputs": [
    {
     "data": {
      "text/plain": [
       "shape: (3,)\n",
       "Series: '' [i32]\n",
       "[\n",
       "\t1\n",
       "\t2\n",
       "\t3\n",
       "]"
      ]
     },
     "execution_count": 7,
     "metadata": {},
     "output_type": "execute_result"
    }
   ],
   "source": [
    "let s: Series = [1, 2, 3].iter().collect();\n",
    "s"
   ]
  },
  {
   "cell_type": "code",
   "execution_count": 8,
   "metadata": {},
   "outputs": [
    {
     "name": "stdout",
     "output_type": "stream",
     "text": [
      "add:\n",
      "shape: (3,)\n",
      "Series: '' [i32]\n",
      "[\n",
      "\t2\n",
      "\t3\n",
      "\t4\n",
      "]\n",
      "sub:\n",
      "shape: (3,)\n",
      "Series: '' [i32]\n",
      "[\n",
      "\t0\n",
      "\t1\n",
      "\t2\n",
      "]\n",
      "mul:\n"
     ]
    }
   ],
   "source": [
    "// series and numbers\n",
    "println!(\"add:\\n{:?}\", &s + 1);\n",
    "println!(\"sub:\\n{:?}\", &s - 1);\n",
    "println!(\"mul:\\n{:?}\", &s * 2);\n",
    "println!(\"div:\\n{:?}\", &s / 2);"
   ]
  },
  {
   "cell_type": "code",
   "execution_count": 9,
   "metadata": {},
   "outputs": [
    {
     "name": "stdout",
     "output_type": "stream",
     "text": [
      "shape: (3,)\n",
      "Series: '' [i32]\n",
      "[\n",
      "\t2\n",
      "\t4\n",
      "\t6\n",
      "]\n",
      "div:\n",
      "shape: (3,)\n",
      "Series: '' [i32]\n",
      "[\n",
      "\t0\n",
      "\t1\n",
      "\t1\n",
      "]\n",
      "add:\n",
      "shape: (3,)\n",
      "Series: '' [i32]\n",
      "[\n",
      "\t2\n",
      "\t4\n",
      "\t6\n",
      "]\n",
      "sub:\n",
      "shape: (3,)\n",
      "Series: '' [i32]\n",
      "[\n",
      "\t0\n",
      "\t0\n",
      "\t0\n",
      "]\n",
      "mul:\n",
      "shape: (3,)\n",
      "Series: '' [i32]\n",
      "[\n",
      "\t1\n",
      "\t4\n",
      "\t9\n",
      "]\n"
     ]
    }
   ],
   "source": [
    "// series and series\n",
    "println!(\"add:\\n{:?}\", &s + &s);\n",
    "println!(\"sub:\\n{:?}\", &s - &s);\n",
    "println!(\"mul:\\n{:?}\", &s * &s);\n",
    "println!(\"div:\\n{:?}\", &s / &s);\n",
    "println!(\"eq:\\n{:?}\", &s.eq(&s));"
   ]
  },
  {
   "cell_type": "code",
   "execution_count": 10,
   "metadata": {},
   "outputs": [
    {
     "name": "stdout",
     "output_type": "stream",
     "text": [
      "div:\n",
      "shape: (3,)\n",
      "Series: '' [i32]\n",
      "[\n",
      "\t1\n",
      "\t1\n",
      "\t1\n",
      "]\n",
      "eq:\n",
      "shape: (3,)\n",
      "ChunkedArray: '' [bool]\n",
      "[\n",
      "\ttrue\n",
      "\ttrue\n",
      "\ttrue\n",
      "]\n",
      "eq:\n",
      "shape: (3,)\n",
      "ChunkedArray: '' [bool]\n",
      "[\n",
      "\ttrue\n",
      "\tfalse\n",
      "\tfalse\n",
      "]\n",
      "ne:\n",
      "shape: (3,)\n",
      "ChunkedArray: '' [bool]\n",
      "[\n",
      "\tfalse\n",
      "\ttrue\n",
      "\ttrue\n",
      "]\n",
      "gt:\n",
      "shape: (3,)\n",
      "ChunkedArray: '' [bool]\n",
      "[\n",
      "\tfalse\n"
     ]
    }
   ],
   "source": [
    "// comparison series and number\n",
    "println!(\"eq:\\n{:?}\", &s.eq(1));\n",
    "println!(\"ne:\\n{:?}\", &s.neq(1));\n",
    "println!(\"gt:\\n{:?}\", &s.gt(1));\n",
    "println!(\"gteq:\\n{:?}\", &s.gt_eq(1));\n",
    "println!(\"lt:\\n{:?}\", &s.lt(1));\n",
    "println!(\"lteq:\\n{:?}\", &s.lt_eq(1));"
   ]
  },
  {
   "cell_type": "code",
   "execution_count": 11,
   "metadata": {},
   "outputs": [
    {
     "name": "stdout",
     "output_type": "stream",
     "text": [
      "\ttrue\n",
      "\ttrue\n",
      "]\n",
      "gteq:\n",
      "shape: (3,)\n",
      "ChunkedArray: '' [bool]\n",
      "[\n",
      "\ttrue\n",
      "\ttrue\n",
      "\ttrue\n",
      "]\n",
      "lt:\n",
      "shape: (3,)\n",
      "ChunkedArray: '' [bool]\n",
      "[\n",
      "\tfalse\n",
      "\tfalse\n",
      "\tfalse\n",
      "]\n",
      "lteq:\n",
      "shape: (3,)\n",
      "ChunkedArray: '' [bool]\n",
      "[\n",
      "\ttrue\n",
      "\tfalse\n",
      "\tfalse\n",
      "]\n",
      "eq:\n",
      "shape: (3,)\n",
      "ChunkedArray: '' [bool]\n",
      "[\n",
      "\ttrue\n",
      "\tfalse\n",
      "\tfalse\n",
      "]\n",
      "ne:\n",
      "shape: (3,)\n",
      "ChunkedArray: '' [bool]\n",
      "[\n",
      "\tfalse\n",
      "\ttrue\n",
      "\ttrue\n",
      "]\n",
      "gt:\n",
      "shape: (3,)\n",
      "ChunkedArray: '' [bool]\n",
      "[\n",
      "\tfalse\n",
      "\tfalse\n",
      "\ttrue\n",
      "]\n",
      "gteq:\n",
      "shape: (3,)\n",
      "ChunkedArray: '' [bool]\n",
      "[\n",
      "\ttrue\n",
      "\tfalse\n",
      "\ttrue\n",
      "]\n",
      "lt:\n",
      "shape: (3,)\n",
      "ChunkedArray: '' [bool]\n",
      "[\n",
      "\tfalse\n",
      "\ttrue\n",
      "\tfalse\n",
      "]\n",
      "lteq:\n",
      "shape: (3,)\n",
      "ChunkedArray: '' [bool]\n",
      "[\n",
      "\ttrue\n",
      "\ttrue\n",
      "\tfalse\n",
      "]\n"
     ]
    }
   ],
   "source": [
    "// comparison series and series\n",
    "let t: Series = [1, 3, 2].iter().collect();\n",
    "\n",
    "println!(\"eq:\\n{:?}\", &s.eq(&t));\n",
    "println!(\"ne:\\n{:?}\", &s.neq(&t));\n",
    "println!(\"gt:\\n{:?}\", &s.gt(&t));\n",
    "println!(\"gteq:\\n{:?}\", &s.gt_eq(&t));\n",
    "println!(\"lt:\\n{:?}\", &s.lt(&t));\n",
    "println!(\"lteq:\\n{:?}\", &s.lt_eq(&t));"
   ]
  },
  {
   "cell_type": "markdown",
   "metadata": {},
   "source": [
    "## DataFrameの作成 "
   ]
  },
  {
   "cell_type": "code",
   "execution_count": 12,
   "metadata": {},
   "outputs": [
    {
     "data": {
      "text/plain": [
       "shape: (3, 4)\n",
       "+-----+-----+-----+-----+\n",
       "| A   | B   | C   | D   |\n",
       "| --- | --- | --- | --- |\n",
       "| str | i32 | i32 | i32 |\n",
       "+=====+=====+=====+=====+\n",
       "| \"a\" | 1   | 10  | 2   |\n",
       "+-----+-----+-----+-----+\n",
       "| \"b\" | 3   | 11  | 4   |\n",
       "+-----+-----+-----+-----+\n",
       "| \"a\" | 5   | 12  | 6   |\n",
       "+-----+-----+-----+-----+\n"
      ]
     },
     "execution_count": 12,
     "metadata": {},
     "output_type": "execute_result"
    }
   ],
   "source": [
    "let mut df = df!(\"A\" => &[\"a\", \"b\", \"a\"],\n",
    "             \"B\" => &[1, 3, 5],\n",
    "             \"C\" => &[10, 11, 12],\n",
    "             \"D\" => &[2, 4, 6]\n",
    "    ).unwrap();\n",
    "df"
   ]
  },
  {
   "cell_type": "markdown",
   "metadata": {},
   "source": [
    "## 列の選択"
   ]
  },
  {
   "cell_type": "code",
   "execution_count": 13,
   "metadata": {},
   "outputs": [
    {
     "data": {
      "text/plain": [
       "Ok(shape: (3, 1)\n",
       "+-----+\n",
       "| A   |\n",
       "| --- |\n",
       "| str |\n",
       "+=====+\n",
       "| \"a\" |\n",
       "+-----+\n",
       "| \"b\" |\n",
       "+-----+\n",
       "| \"a\" |\n",
       "+-----+\n",
       ")"
      ]
     },
     "execution_count": 13,
     "metadata": {},
     "output_type": "execute_result"
    }
   ],
   "source": [
    "df.select(\"A\")"
   ]
  },
  {
   "cell_type": "code",
   "execution_count": 14,
   "metadata": {},
   "outputs": [
    {
     "data": {
      "text/plain": [
       "Ok(shape: (3, 2)\n",
       "+-----+-----+\n",
       "| A   | B   |\n",
       "| --- | --- |\n",
       "| str | i32 |\n",
       "+=====+=====+\n",
       "| \"a\" | 1   |\n",
       "+-----+-----+\n",
       "| \"b\" | 3   |\n",
       "+-----+-----+\n",
       "| \"a\" | 5   |\n",
       "+-----+-----+\n",
       ")"
      ]
     },
     "execution_count": 14,
     "metadata": {},
     "output_type": "execute_result"
    }
   ],
   "source": [
    "// or df.select(vec![\"A\", \"B\"])\n",
    "df.select((\"A\", \"B\")) "
   ]
  },
  {
   "cell_type": "code",
   "execution_count": 15,
   "metadata": {},
   "outputs": [
    {
     "data": {
      "text/plain": [
       "Ok(shape: (3,)\n",
       "Series: 'A' [str]\n",
       "[\n",
       "\t\"a\"\n",
       "\t\"b\"\n",
       "\t\"a\"\n",
       "])"
      ]
     },
     "execution_count": 15,
     "metadata": {},
     "output_type": "execute_result"
    }
   ],
   "source": [
    "df.column(\"A\")"
   ]
  },
  {
   "cell_type": "markdown",
   "metadata": {},
   "source": [
    "## 条件に応じた列選択"
   ]
  },
  {
   "cell_type": "code",
   "execution_count": 16,
   "metadata": {},
   "outputs": [
    {
     "data": {
      "text/plain": [
       "Ok(shape: (3, 1)\n",
       "+-----+\n",
       "| A   |\n",
       "| --- |\n",
       "| str |\n",
       "+=====+\n",
       "| \"a\" |\n",
       "+-----+\n",
       "| \"b\" |\n",
       "+-----+\n",
       "| \"a\" |\n",
       "+-----+\n",
       ")"
      ]
     },
     "execution_count": 16,
     "metadata": {},
     "output_type": "execute_result"
    }
   ],
   "source": [
    "df.select(&df.get_column_names()\n",
    "            .iter()\n",
    "            .filter(|x| x.starts_with(\"A\"))\n",
    "            .map(|&x| x)\n",
    "            .collect::<Vec<&str>>()\n",
    "        )"
   ]
  },
  {
   "cell_type": "markdown",
   "metadata": {},
   "source": [
    "## 列の入れ替え"
   ]
  },
  {
   "cell_type": "code",
   "execution_count": 76,
   "metadata": {},
   "outputs": [
    {
     "data": {
      "text/plain": [
       "Ok(shape: (3, 2)\n",
       "+-----+-----+\n",
       "| B   | A   |\n",
       "| --- | --- |\n",
       "| i32 | str |\n",
       "+=====+=====+\n",
       "| 1   | \"a\" |\n",
       "+-----+-----+\n",
       "| 3   | \"b\" |\n",
       "+-----+-----+\n",
       "| 5   | \"a\" |\n",
       "+-----+-----+\n",
       ")"
      ]
     },
     "execution_count": 76,
     "metadata": {},
     "output_type": "execute_result"
    }
   ],
   "source": [
    "df.select((\"B\", \"A\"))"
   ]
  },
  {
   "cell_type": "markdown",
   "metadata": {},
   "source": [
    "## 列の追加"
   ]
  },
  {
   "cell_type": "code",
   "execution_count": 81,
   "metadata": {},
   "outputs": [
    {
     "ename": "Error",
     "evalue": "cannot infer an appropriate lifetime for autoref due to conflicting requirements",
     "output_type": "error",
     "traceback": [
      "let new_df = df.with_column(df.column(\"B\").unwrap().i32().unwrap()",
      "                ^^^^^^^^^^^ ",
      "cannot infer an appropriate lifetime for autoref due to conflicting requirements"
     ]
    }
   ],
   "source": [
    "let new_df = df.with_column(df.column(\"B\").unwrap().i32().unwrap()\n",
    "    .apply(|x| x * 2 )\n",
    "    .into_series()\n",
    "    .rename(\"E\").to_owned()).unwrap();"
   ]
  },
  {
   "cell_type": "code",
   "execution_count": 30,
   "metadata": {},
   "outputs": [
    {
     "data": {
      "text/plain": [
       "Ok(shape: (3, 8)\n",
       "+-----+-----+-----+-----+-----+-----+-----+-----+\n",
       "| A   | B   | C   | D   | E   | F   | G   | H   |\n",
       "| --- | --- | --- | --- | --- | --- | --- | --- |\n",
       "| str | i32 | i32 | i32 | i32 | i32 | i32 | i32 |\n",
       "+=====+=====+=====+=====+=====+=====+=====+=====+\n",
       "| \"a\" | 1   | 10  | 2   | 2   | 2   | 2   | 2   |\n",
       "+-----+-----+-----+-----+-----+-----+-----+-----+\n",
       "| \"b\" | 3   | 11  | 4   | 6   | 6   | 6   | 6   |\n",
       "+-----+-----+-----+-----+-----+-----+-----+-----+\n",
       "| \"a\" | 5   | 12  | 6   | 10  | 10  | 10  | 10  |\n",
       "+-----+-----+-----+-----+-----+-----+-----+-----+\n",
       ")"
      ]
     },
     "execution_count": 30,
     "metadata": {},
     "output_type": "execute_result"
    }
   ],
   "source": [
    "let col_e = df.column(\"B\").unwrap()\n",
    "                .i32().unwrap()\n",
    "                .apply(|x| x * 2)\n",
    "                .into_series()\n",
    "                .rename(\"E\")\n",
    "                .to_owned();\n",
    "df.with_column(col_e);\n",
    "df.with_column(Series::new(\"F\", &[2, 6, 10]));\n",
    "df.with_column(df.select(\"B\").unwrap()\n",
    "                 .rename(\"B\", \"G\").unwrap()\n",
    "                 .apply(\"G\", |x| x * 2).unwrap()\n",
    "                 .column(\"G\").unwrap()\n",
    "                 .to_owned());\n",
    "\n",
    "df.with_column(df.column(\"B\").unwrap().to_owned().rename(\"H\").to_owned() * 2)"
   ]
  },
  {
   "cell_type": "markdown",
   "metadata": {},
   "source": [
    "## 条件による行選択"
   ]
  },
  {
   "cell_type": "markdown",
   "metadata": {},
   "source": [
    "### 単独条件"
   ]
  },
  {
   "cell_type": "code",
   "execution_count": 33,
   "metadata": {},
   "outputs": [
    {
     "data": {
      "text/plain": [
       "Ok(shape: (2, 8)\n",
       "+-----+-----+-----+-----+-----+-----+-----+-----+\n",
       "| A   | B   | C   | D   | E   | F   | G   | H   |\n",
       "| --- | --- | --- | --- | --- | --- | --- | --- |\n",
       "| str | i32 | i32 | i32 | i32 | i32 | i32 | i32 |\n",
       "+=====+=====+=====+=====+=====+=====+=====+=====+\n",
       "| \"a\" | 1   | 10  | 2   | 2   | 2   | 2   | 2   |\n",
       "+-----+-----+-----+-----+-----+-----+-----+-----+\n",
       "| \"b\" | 3   | 11  | 4   | 6   | 6   | 6   | 6   |\n",
       "+-----+-----+-----+-----+-----+-----+-----+-----+\n",
       ")"
      ]
     },
     "execution_count": 33,
     "metadata": {},
     "output_type": "execute_result"
    }
   ],
   "source": [
    "df.filter(&df.column(\"B\").unwrap().lt_eq(4))"
   ]
  },
  {
   "cell_type": "markdown",
   "metadata": {},
   "source": [
    "### 複数条件\n",
    "ChunkedArrayはbit演算ができる"
   ]
  },
  {
   "cell_type": "code",
   "execution_count": 36,
   "metadata": {},
   "outputs": [
    {
     "data": {
      "text/plain": [
       "Ok(shape: (2, 8)\n",
       "+-----+-----+-----+-----+-----+-----+-----+-----+\n",
       "| A   | B   | C   | D   | E   | F   | G   | H   |\n",
       "| --- | --- | --- | --- | --- | --- | --- | --- |\n",
       "| str | i32 | i32 | i32 | i32 | i32 | i32 | i32 |\n",
       "+=====+=====+=====+=====+=====+=====+=====+=====+\n",
       "| \"a\" | 1   | 10  | 2   | 2   | 2   | 2   | 2   |\n",
       "+-----+-----+-----+-----+-----+-----+-----+-----+\n",
       "| \"a\" | 5   | 12  | 6   | 10  | 10  | 10  | 10  |\n",
       "+-----+-----+-----+-----+-----+-----+-----+-----+\n",
       ")"
      ]
     },
     "execution_count": 36,
     "metadata": {},
     "output_type": "execute_result"
    }
   ],
   "source": [
    "df.filter(&(\n",
    "    df.column(\"B\").unwrap().eq(1) | df.column(\"C\").unwrap().eq(12)\n",
    "))"
   ]
  },
  {
   "cell_type": "markdown",
   "metadata": {},
   "source": [
    "### 含まれているかなどの演算"
   ]
  },
  {
   "cell_type": "code",
   "execution_count": 38,
   "metadata": {},
   "outputs": [
    {
     "data": {
      "text/plain": [
       "Ok(shape: (2, 8)\n",
       "+-----+-----+-----+-----+-----+-----+-----+-----+\n",
       "| A   | B   | C   | D   | E   | F   | G   | H   |\n",
       "| --- | --- | --- | --- | --- | --- | --- | --- |\n",
       "| str | i32 | i32 | i32 | i32 | i32 | i32 | i32 |\n",
       "+=====+=====+=====+=====+=====+=====+=====+=====+\n",
       "| \"a\" | 1   | 10  | 2   | 2   | 2   | 2   | 2   |\n",
       "+-----+-----+-----+-----+-----+-----+-----+-----+\n",
       "| \"b\" | 3   | 11  | 4   | 6   | 6   | 6   | 6   |\n",
       "+-----+-----+-----+-----+-----+-----+-----+-----+\n",
       ")"
      ]
     },
     "execution_count": 38,
     "metadata": {},
     "output_type": "execute_result"
    }
   ],
   "source": [
    "let v: Vec<i32> = vec![1, 3];\n",
    "df.filter(&(\n",
    "    df.column(\"B\").unwrap()\n",
    "        .i32().unwrap()\n",
    "        .map(|x| v.contains(&x)).unwrap()\n",
    "        .collect()\n",
    "))"
   ]
  },
  {
   "cell_type": "markdown",
   "metadata": {},
   "source": [
    "## 重複行"
   ]
  },
  {
   "cell_type": "code",
   "execution_count": 56,
   "metadata": {},
   "outputs": [
    {
     "data": {
      "text/plain": [
       "shape: (3, 2)\n",
       "+-----+-----+\n",
       "| A   | B   |\n",
       "| --- | --- |\n",
       "| i32 | i32 |\n",
       "+=====+=====+\n",
       "| 1   | 1   |\n",
       "+-----+-----+\n",
       "| 2   | 2   |\n",
       "+-----+-----+\n",
       "| 2   | 2   |\n",
       "+-----+-----+\n"
      ]
     },
     "execution_count": 56,
     "metadata": {},
     "output_type": "execute_result"
    }
   ],
   "source": [
    "let mut dup_df = df!(\"A\" => &[1, 2, 2], \"B\" => &[1, 2, 2]).unwrap();\n",
    "dup_df"
   ]
  },
  {
   "cell_type": "markdown",
   "metadata": {},
   "source": [
    "### 重複行の抽出"
   ]
  },
  {
   "cell_type": "code",
   "execution_count": 59,
   "metadata": {},
   "outputs": [
    {
     "data": {
      "text/plain": [
       "Ok(shape: (2, 2)\n",
       "+-----+-----+\n",
       "| A   | B   |\n",
       "| --- | --- |\n",
       "| i32 | i32 |\n",
       "+=====+=====+\n",
       "| 2   | 2   |\n",
       "+-----+-----+\n",
       "| 2   | 2   |\n",
       "+-----+-----+\n",
       ")"
      ]
     },
     "execution_count": 59,
     "metadata": {},
     "output_type": "execute_result"
    }
   ],
   "source": [
    "dup_df.filter(&dup_df.is_duplicated().unwrap())"
   ]
  },
  {
   "cell_type": "markdown",
   "metadata": {},
   "source": [
    "### 重複行の削除"
   ]
  },
  {
   "cell_type": "code",
   "execution_count": 60,
   "metadata": {},
   "outputs": [
    {
     "data": {
      "text/plain": [
       "Ok(shape: (2, 2)\n",
       "+-----+-----+\n",
       "| A   | B   |\n",
       "| --- | --- |\n",
       "| i32 | i32 |\n",
       "+=====+=====+\n",
       "| 1   | 1   |\n",
       "+-----+-----+\n",
       "| 2   | 2   |\n",
       "+-----+-----+\n",
       ")"
      ]
     },
     "execution_count": 60,
     "metadata": {},
     "output_type": "execute_result"
    }
   ],
   "source": [
    "dup_df.drop_duplicates(true, None)"
   ]
  },
  {
   "cell_type": "markdown",
   "metadata": {},
   "source": [
    "## ndarrayへの変換\n",
    "型が必要。"
   ]
  },
  {
   "cell_type": "code",
   "execution_count": 46,
   "metadata": {},
   "outputs": [
    {
     "data": {
      "text/plain": [
       "Ok([[1.0, 2.0],\n",
       " [2.0, 3.0],\n",
       " [3.0, 4.0]], shape=[3, 2], strides=[2, 1], layout=C (0x1), const ndim=2)"
      ]
     },
     "execution_count": 46,
     "metadata": {},
     "output_type": "execute_result"
    }
   ],
   "source": [
    "let arr = df!(\"A\" => &[1, 2, 3], \"B\" => &[2, 3, 4]).unwrap();\n",
    "arr.to_ndarray::<Float64Type>()"
   ]
  },
  {
   "cell_type": "code",
   "execution_count": 52,
   "metadata": {},
   "outputs": [
    {
     "data": {
      "text/plain": [
       "[Field { name: \"A\", data_type: Utf8 }, Field { name: \"B\", data_type: Int32 }, Field { name: \"C\", data_type: Int32 }, Field { name: \"D\", data_type: Int32 }, Field { name: \"E\", data_type: Int32 }, Field { name: \"F\", data_type: Int32 }, Field { name: \"G\", data_type: Int32 }, Field { name: \"H\", data_type: Int32 }]"
      ]
     },
     "execution_count": 52,
     "metadata": {},
     "output_type": "execute_result"
    }
   ],
   "source": [
    "df.fields()"
   ]
  },
  {
   "cell_type": "code",
   "execution_count": 31,
   "metadata": {},
   "outputs": [
    {
     "name": "stdout",
     "output_type": "stream",
     "text": [
      "shape: (5, 3)\n",
      "+--------------+------+------+\n",
      "| date         | temp | rain |\n",
      "| ---          | ---  | ---  |\n",
      "| date32(days) | i32  | f64  |\n",
      "+==============+======+======+\n",
      "| 2020-08-21   | 20   | 0.2  |\n",
      "+--------------+------+------+\n",
      "| 2020-08-21   | 10   | 0.1  |\n",
      "+--------------+------+------+\n",
      "| 2020-08-22   | 7    | 0.3  |\n",
      "+--------------+------+------+\n",
      "| 2020-08-23   | 9    | 0.1  |\n",
      "+--------------+------+------+\n",
      "| 2020-08-22   | 1    | 0.01 |\n",
      "+--------------+------+------+\n",
      "\n"
     ]
    }
   ],
   "source": [
    "let dates = &[\n",
    "\"2020-08-21\",\n",
    "\"2020-08-21\",\n",
    "\"2020-08-22\",\n",
    "\"2020-08-23\",\n",
    "\"2020-08-22\",\n",
    "];\n",
    "// date format\n",
    "let fmt = \"%Y-%m-%d\";\n",
    "// create date series\n",
    "let s0 = Date32Chunked::parse_from_str_slice(\"date\", dates, fmt)\n",
    "        .into_series();\n",
    "// create temperature series\n",
    "let s1 = Series::new(\"temp\", [20, 10, 7, 9, 1].as_ref());\n",
    "// create rain series\n",
    "let s2 = Series::new(\"rain\", [0.2, 0.1, 0.3, 0.1, 0.01].as_ref());\n",
    "// create a new DataFrame\n",
    "let df = DataFrame::new(vec![s0, s1, s2]).unwrap();\n",
    "println!(\"{:?}\", df);"
   ]
  },
  {
   "cell_type": "code",
   "execution_count": 34,
   "metadata": {},
   "outputs": [
    {
     "ename": "Error",
     "evalue": "no method named `pivot` found for struct `polars::frame::groupby::GroupBy` in the current scope",
     "output_type": "error",
     "traceback": [
      "df.groupby(\"date\").unwrap().pivot(&[\"temp\", \"rain\"]).mean()",
      "                            ^^^^^ method not found in `polars::frame::groupby::GroupBy<'_, '_>`",
      "no method named `pivot` found for struct `polars::frame::groupby::GroupBy` in the current scope"
     ]
    }
   ],
   "source": [
    "df.groupby(\"date\").unwrap().pivot(&[\"temp\", \"rain\"]).mean()"
   ]
  }
 ],
 "metadata": {
  "kernelspec": {
   "display_name": "Rust",
   "language": "rust",
   "name": "rust"
  },
  "language_info": {
   "codemirror_mode": "rust",
   "file_extension": ".rs",
   "mimetype": "text/rust",
   "name": "Rust",
   "pygment_lexer": "rust",
   "version": ""
  }
 },
 "nbformat": 4,
 "nbformat_minor": 4
}
