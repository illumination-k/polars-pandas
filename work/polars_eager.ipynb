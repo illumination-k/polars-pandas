{
 "cells": [
  {
   "cell_type": "markdown",
   "metadata": {},
   "source": [
    "# Polars\n",
    "## Install polars"
   ]
  },
  {
   "cell_type": "code",
   "execution_count": 2,
   "metadata": {},
   "outputs": [],
   "source": [
    ":dep polars = { version = \"0.20.0\", features = [\"ndarray\", \"random\"]}"
   ]
  },
  {
   "cell_type": "code",
   "execution_count": 3,
   "metadata": {},
   "outputs": [],
   "source": [
    "#[macro_use]\n",
    "extern crate polars;\n",
    "use polars::prelude::*;"
   ]
  },
  {
   "cell_type": "markdown",
   "metadata": {},
   "source": [
    "## 演算"
   ]
  },
  {
   "cell_type": "code",
   "execution_count": 4,
   "metadata": {},
   "outputs": [
    {
     "data": {
      "text/plain": [
       "shape: (3,)\n",
       "Series: '' [i32]\n",
       "[\n",
       "\t1\n",
       "\t2\n",
       "\t3\n",
       "]"
      ]
     },
     "execution_count": 4,
     "metadata": {},
     "output_type": "execute_result"
    }
   ],
   "source": [
    "let s: Series = [1, 2, 3].iter().collect();\n",
    "s"
   ]
  },
  {
   "cell_type": "code",
   "execution_count": 5,
   "metadata": {},
   "outputs": [
    {
     "data": {
      "text/plain": [
       "shape: (3,)\n",
       "Series: 'A' [i32]\n",
       "[\n",
       "\t1\n",
       "\t2\n",
       "\t3\n",
       "]"
      ]
     },
     "execution_count": 5,
     "metadata": {},
     "output_type": "execute_result"
    }
   ],
   "source": [
    "Series::new(\"A\", &[1, 2, 3])"
   ]
  },
  {
   "cell_type": "code",
   "execution_count": 6,
   "metadata": {},
   "outputs": [
    {
     "name": "stdout",
     "output_type": "stream",
     "text": [
      "add:\n",
      "shape: (3,)\n",
      "Series: '' [i32]\n",
      "[\n",
      "\t2\n",
      "\t3\n",
      "\t4\n",
      "]\n",
      "sub:\n",
      "shape: (3,)\n",
      "Series: '' [i32]\n",
      "[\n",
      "\t0\n",
      "\t1\n",
      "\t2\n",
      "]\n",
      "mul:\n",
      "shape: (3,)\n",
      "Series: '' [i32]\n",
      "[\n",
      "\t2\n",
      "\t4\n",
      "\t6\n",
      "]\n",
      "div:\n",
      "shape: (3,)\n",
      "Series: '' [i32]\n",
      "[\n",
      "\t0\n",
      "\t1\n",
      "\t1\n",
      "]\n"
     ]
    }
   ],
   "source": [
    "// series and numbers\n",
    "println!(\"add:\\n{:?}\", &s + 1);\n",
    "println!(\"sub:\\n{:?}\", &s - 1);\n",
    "println!(\"mul:\\n{:?}\", &s * 2);\n",
    "println!(\"div:\\n{:?}\", &s / 2);"
   ]
  },
  {
   "cell_type": "code",
   "execution_count": 7,
   "metadata": {},
   "outputs": [
    {
     "name": "stdout",
     "output_type": "stream",
     "text": [
      "add:\n",
      "shape: (3,)\n",
      "Series: '' [i32]\n",
      "[\n",
      "\t2\n",
      "\t4\n",
      "\t6\n",
      "]\n",
      "sub:\n",
      "shape: (3,)\n",
      "Series: '' [i32]\n",
      "[\n",
      "\t0\n",
      "\t0\n",
      "\t0\n",
      "]\n",
      "mul:\n",
      "shape: (3,)\n",
      "Series: '' [i32]\n",
      "[\n",
      "\t1\n",
      "\t4\n",
      "\t9\n",
      "]\n",
      "div:\n",
      "shape: (3,)\n",
      "Series: '' [i32]\n",
      "[\n",
      "\t1\n",
      "\t1\n",
      "\t1\n",
      "]\n",
      "eq:\n",
      "true\n"
     ]
    }
   ],
   "source": [
    "// series and series\n",
    "println!(\"add:\\n{:?}\", &s + &s);\n",
    "println!(\"sub:\\n{:?}\", &s - &s);\n",
    "println!(\"mul:\\n{:?}\", &s * &s);\n",
    "println!(\"div:\\n{:?}\", &s / &s);\n",
    "println!(\"eq:\\n{:?}\", &s.eq(&s));"
   ]
  },
  {
   "cell_type": "code",
   "execution_count": 8,
   "metadata": {},
   "outputs": [
    {
     "name": "stdout",
     "output_type": "stream",
     "text": [
      "eq:\n",
      "shape: (3,)\n",
      "ChunkedArray: '' [bool]\n",
      "[\n",
      "\ttrue\n",
      "\tfalse\n",
      "\tfalse\n",
      "]\n",
      "ne:\n",
      "shape: (3,)\n",
      "ChunkedArray: '' [bool]\n",
      "[\n",
      "\tfalse\n",
      "\ttrue\n",
      "\ttrue\n",
      "]\n",
      "gt:\n",
      "shape: (3,)\n",
      "ChunkedArray: '' [bool]\n",
      "[\n",
      "\tfalse\n",
      "\ttrue\n",
      "\ttrue\n",
      "]\n",
      "gteq:\n",
      "shape: (3,)\n",
      "ChunkedArray: '' [bool]\n",
      "[\n",
      "\ttrue\n",
      "\ttrue\n",
      "\ttrue\n",
      "]\n",
      "lt:\n",
      "shape: (3,)\n",
      "ChunkedArray: '' [bool]\n",
      "[\n",
      "\tfalse\n",
      "\tfalse\n",
      "\tfalse\n",
      "]\n",
      "lteq:\n",
      "shape: (3,)\n",
      "ChunkedArray: '' [bool]\n",
      "[\n",
      "\ttrue\n",
      "\tfalse\n",
      "\tfalse\n",
      "]\n"
     ]
    }
   ],
   "source": [
    "// comparison series and number\n",
    "println!(\"eq:\\n{:?}\", &s.equal(1));\n",
    "println!(\"ne:\\n{:?}\", &s.not_equal(1));\n",
    "println!(\"gt:\\n{:?}\", &s.gt(1));\n",
    "println!(\"gteq:\\n{:?}\", &s.gt_eq(1));\n",
    "println!(\"lt:\\n{:?}\", &s.lt(1));\n",
    "println!(\"lteq:\\n{:?}\", &s.lt_eq(1));"
   ]
  },
  {
   "cell_type": "code",
   "execution_count": 9,
   "metadata": {},
   "outputs": [
    {
     "name": "stdout",
     "output_type": "stream",
     "text": [
      "eq:\n",
      "shape: (3,)\n",
      "ChunkedArray: '' [bool]\n",
      "[\n",
      "\ttrue\n",
      "\tfalse\n",
      "\tfalse\n",
      "]\n",
      "ne:\n",
      "shape: (3,)\n",
      "ChunkedArray: '' [bool]\n",
      "[\n",
      "\tfalse\n",
      "\ttrue\n",
      "\ttrue\n",
      "]\n",
      "gt:\n",
      "shape: (3,)\n",
      "ChunkedArray: '' [bool]\n",
      "[\n",
      "\tfalse\n",
      "\tfalse\n",
      "\ttrue\n",
      "]\n",
      "gteq:\n",
      "shape: (3,)\n",
      "ChunkedArray: '' [bool]\n",
      "[\n",
      "\ttrue\n",
      "\tfalse\n",
      "\ttrue\n",
      "]\n",
      "lt:\n",
      "shape: (3,)\n",
      "ChunkedArray: '' [bool]\n",
      "[\n",
      "\tfalse\n",
      "\ttrue\n",
      "\tfalse\n",
      "]\n",
      "lteq:\n",
      "shape: (3,)\n",
      "ChunkedArray: '' [bool]\n",
      "[\n",
      "\ttrue\n",
      "\ttrue\n",
      "\tfalse\n",
      "]\n"
     ]
    }
   ],
   "source": [
    "// comparison series and series\n",
    "let t: Series = [1, 3, 2].iter().collect();\n",
    "\n",
    "println!(\"eq:\\n{:?}\", &s.equal(&t));\n",
    "println!(\"ne:\\n{:?}\", &s.not_equal(&t));\n",
    "println!(\"gt:\\n{:?}\", &s.gt(&t));\n",
    "println!(\"gteq:\\n{:?}\", &s.gt_eq(&t));\n",
    "println!(\"lt:\\n{:?}\", &s.lt(&t));\n",
    "println!(\"lteq:\\n{:?}\", &s.lt_eq(&t));"
   ]
  },
  {
   "cell_type": "markdown",
   "metadata": {},
   "source": [
    "## DataFrameの作成 "
   ]
  },
  {
   "cell_type": "code",
   "execution_count": 10,
   "metadata": {},
   "outputs": [
    {
     "data": {
      "text/plain": [
       "shape: (3, 4)\n",
       "┌─────┬─────┬─────┬─────┐\n",
       "│ A   ┆ B   ┆ C   ┆ D   │\n",
       "│ --- ┆ --- ┆ --- ┆ --- │\n",
       "│ str ┆ i32 ┆ i32 ┆ i32 │\n",
       "╞═════╪═════╪═════╪═════╡\n",
       "│ a   ┆ 1   ┆ 10  ┆ 2   │\n",
       "├╌╌╌╌╌┼╌╌╌╌╌┼╌╌╌╌╌┼╌╌╌╌╌┤\n",
       "│ b   ┆ 3   ┆ 11  ┆ 4   │\n",
       "├╌╌╌╌╌┼╌╌╌╌╌┼╌╌╌╌╌┼╌╌╌╌╌┤\n",
       "│ a   ┆ 5   ┆ 12  ┆ 6   │\n",
       "└─────┴─────┴─────┴─────┘"
      ]
     },
     "execution_count": 10,
     "metadata": {},
     "output_type": "execute_result"
    }
   ],
   "source": [
    "let mut df = df!(\"A\" => &[\"a\", \"b\", \"a\"],\n",
    "             \"B\" => &[1, 3, 5],\n",
    "             \"C\" => &[10, 11, 12],\n",
    "             \"D\" => &[2, 4, 6]\n",
    "    ).unwrap();\n",
    "df"
   ]
  },
  {
   "cell_type": "markdown",
   "metadata": {},
   "source": [
    "## 列の選択"
   ]
  },
  {
   "cell_type": "code",
   "execution_count": 14,
   "metadata": {},
   "outputs": [
    {
     "data": {
      "text/plain": [
       "Ok(shape: (3, 1)\n",
       "┌─────┐\n",
       "│ A   │\n",
       "│ --- │\n",
       "│ str │\n",
       "╞═════╡\n",
       "│ a   │\n",
       "├╌╌╌╌╌┤\n",
       "│ b   │\n",
       "├╌╌╌╌╌┤\n",
       "│ a   │\n",
       "└─────┘)"
      ]
     },
     "execution_count": 14,
     "metadata": {},
     "output_type": "execute_result"
    }
   ],
   "source": [
    "df.select(&[\"A\"])"
   ]
  },
  {
   "cell_type": "code",
   "execution_count": 15,
   "metadata": {},
   "outputs": [
    {
     "data": {
      "text/plain": [
       "Ok(shape: (3, 2)\n",
       "┌─────┬─────┐\n",
       "│ A   ┆ B   │\n",
       "│ --- ┆ --- │\n",
       "│ str ┆ i32 │\n",
       "╞═════╪═════╡\n",
       "│ a   ┆ 1   │\n",
       "├╌╌╌╌╌┼╌╌╌╌╌┤\n",
       "│ b   ┆ 3   │\n",
       "├╌╌╌╌╌┼╌╌╌╌╌┤\n",
       "│ a   ┆ 5   │\n",
       "└─────┴─────┘)"
      ]
     },
     "execution_count": 15,
     "metadata": {},
     "output_type": "execute_result"
    }
   ],
   "source": [
    "df.select(&[\"A\", \"B\"]) "
   ]
  },
  {
   "cell_type": "code",
   "execution_count": 17,
   "metadata": {},
   "outputs": [
    {
     "data": {
      "text/plain": [
       "Ok(shape: (3,)\n",
       "Series: 'A' [str]\n",
       "[\n",
       "\t\"a\"\n",
       "\t\"b\"\n",
       "\t\"a\"\n",
       "])"
      ]
     },
     "execution_count": 17,
     "metadata": {},
     "output_type": "execute_result"
    }
   ],
   "source": [
    "df.column(\"A\")"
   ]
  },
  {
   "cell_type": "markdown",
   "metadata": {},
   "source": [
    "## 条件に応じた列選択"
   ]
  },
  {
   "cell_type": "code",
   "execution_count": 18,
   "metadata": {},
   "outputs": [
    {
     "data": {
      "text/plain": [
       "Ok(shape: (3, 1)\n",
       "┌─────┐\n",
       "│ A   │\n",
       "│ --- │\n",
       "│ str │\n",
       "╞═════╡\n",
       "│ a   │\n",
       "├╌╌╌╌╌┤\n",
       "│ b   │\n",
       "├╌╌╌╌╌┤\n",
       "│ a   │\n",
       "└─────┘)"
      ]
     },
     "execution_count": 18,
     "metadata": {},
     "output_type": "execute_result"
    }
   ],
   "source": [
    "df.select(&df.get_column_names()\n",
    "            .iter()\n",
    "            .filter(|x| x.starts_with(\"A\"))\n",
    "            .map(|&x| x)\n",
    "            .collect::<Vec<&str>>()\n",
    "        )"
   ]
  },
  {
   "cell_type": "markdown",
   "metadata": {},
   "source": [
    "## 列の入れ替え"
   ]
  },
  {
   "cell_type": "code",
   "execution_count": 19,
   "metadata": {},
   "outputs": [
    {
     "data": {
      "text/plain": [
       "Ok(shape: (3, 2)\n",
       "┌─────┬─────┐\n",
       "│ B   ┆ A   │\n",
       "│ --- ┆ --- │\n",
       "│ i32 ┆ str │\n",
       "╞═════╪═════╡\n",
       "│ 1   ┆ a   │\n",
       "├╌╌╌╌╌┼╌╌╌╌╌┤\n",
       "│ 3   ┆ b   │\n",
       "├╌╌╌╌╌┼╌╌╌╌╌┤\n",
       "│ 5   ┆ a   │\n",
       "└─────┴─────┘)"
      ]
     },
     "execution_count": 19,
     "metadata": {},
     "output_type": "execute_result"
    }
   ],
   "source": [
    "df.select(&[\"B\", \"A\"])"
   ]
  },
  {
   "cell_type": "markdown",
   "metadata": {},
   "source": [
    "## 列の追加"
   ]
  },
  {
   "cell_type": "code",
   "execution_count": 20,
   "metadata": {},
   "outputs": [
    {
     "data": {
      "text/plain": [
       "Ok(shape: (3, 8)\n",
       "┌─────┬─────┬─────┬─────┬─────┬─────┬─────┬─────┐\n",
       "│ A   ┆ B   ┆ C   ┆ D   ┆ E   ┆ F   ┆ G   ┆ H   │\n",
       "│ --- ┆ --- ┆ --- ┆ --- ┆ --- ┆ --- ┆ --- ┆ --- │\n",
       "│ str ┆ i32 ┆ i32 ┆ i32 ┆ i32 ┆ i32 ┆ i32 ┆ i32 │\n",
       "╞═════╪═════╪═════╪═════╪═════╪═════╪═════╪═════╡\n",
       "│ a   ┆ 1   ┆ 10  ┆ 2   ┆ 2   ┆ 2   ┆ 2   ┆ 2   │\n",
       "├╌╌╌╌╌┼╌╌╌╌╌┼╌╌╌╌╌┼╌╌╌╌╌┼╌╌╌╌╌┼╌╌╌╌╌┼╌╌╌╌╌┼╌╌╌╌╌┤\n",
       "│ b   ┆ 3   ┆ 11  ┆ 4   ┆ 6   ┆ 6   ┆ 6   ┆ 6   │\n",
       "├╌╌╌╌╌┼╌╌╌╌╌┼╌╌╌╌╌┼╌╌╌╌╌┼╌╌╌╌╌┼╌╌╌╌╌┼╌╌╌╌╌┼╌╌╌╌╌┤\n",
       "│ a   ┆ 5   ┆ 12  ┆ 6   ┆ 10  ┆ 10  ┆ 10  ┆ 10  │\n",
       "└─────┴─────┴─────┴─────┴─────┴─────┴─────┴─────┘)"
      ]
     },
     "execution_count": 20,
     "metadata": {},
     "output_type": "execute_result"
    }
   ],
   "source": [
    "let col_e = df.column(\"B\").unwrap()\n",
    "                .i32().unwrap()\n",
    "                .apply(|x| x * 2)\n",
    "                .into_series()\n",
    "                .rename(\"E\")\n",
    "                .to_owned();\n",
    "df.with_column(col_e);\n",
    "df.with_column(Series::new(\"F\", &[2, 6, 10]));\n",
    "df.with_column(df.select(&[\"B\"]).unwrap()\n",
    "                 .rename(\"B\", \"G\").unwrap()\n",
    "                 .apply(\"G\", |x| x * 2).unwrap()\n",
    "                 .column(\"G\").unwrap()\n",
    "                 .to_owned());\n",
    "\n",
    "df.with_column(df.column(\"B\").unwrap().to_owned().rename(\"H\").to_owned() * 2)"
   ]
  },
  {
   "cell_type": "code",
   "execution_count": 21,
   "metadata": {},
   "outputs": [
    {
     "data": {
      "text/plain": [
       "shape: (3, 9)\n",
       "┌─────┬─────┬─────┬─────┬─────┬─────┬─────┬─────┬─────┐\n",
       "│ A   ┆ B   ┆ C   ┆ D   ┆ ... ┆ F   ┆ G   ┆ H   ┆ I   │\n",
       "│ --- ┆ --- ┆ --- ┆ --- ┆     ┆ --- ┆ --- ┆ --- ┆ --- │\n",
       "│ str ┆ i32 ┆ i32 ┆ i32 ┆     ┆ i32 ┆ i32 ┆ i32 ┆ i32 │\n",
       "╞═════╪═════╪═════╪═════╪═════╪═════╪═════╪═════╪═════╡\n",
       "│ a   ┆ 1   ┆ 10  ┆ 2   ┆ ... ┆ 2   ┆ 2   ┆ 2   ┆ 2   │\n",
       "├╌╌╌╌╌┼╌╌╌╌╌┼╌╌╌╌╌┼╌╌╌╌╌┼╌╌╌╌╌┼╌╌╌╌╌┼╌╌╌╌╌┼╌╌╌╌╌┼╌╌╌╌╌┤\n",
       "│ b   ┆ 3   ┆ 11  ┆ 4   ┆ ... ┆ 6   ┆ 6   ┆ 6   ┆ 6   │\n",
       "├╌╌╌╌╌┼╌╌╌╌╌┼╌╌╌╌╌┼╌╌╌╌╌┼╌╌╌╌╌┼╌╌╌╌╌┼╌╌╌╌╌┼╌╌╌╌╌┼╌╌╌╌╌┤\n",
       "│ a   ┆ 5   ┆ 12  ┆ 6   ┆ ... ┆ 10  ┆ 10  ┆ 10  ┆ 10  │\n",
       "└─────┴─────┴─────┴─────┴─────┴─────┴─────┴─────┴─────┘"
      ]
     },
     "execution_count": 21,
     "metadata": {},
     "output_type": "execute_result"
    }
   ],
   "source": [
    "let new_df = df.replace_or_add(\"I\", Series::new(\"I\", &[2, 6, 10])).unwrap().clone();\n",
    "new_df"
   ]
  },
  {
   "cell_type": "markdown",
   "metadata": {},
   "source": [
    "## 条件による行選択"
   ]
  },
  {
   "cell_type": "markdown",
   "metadata": {},
   "source": [
    "### 単独条件"
   ]
  },
  {
   "cell_type": "code",
   "execution_count": 22,
   "metadata": {},
   "outputs": [
    {
     "data": {
      "text/plain": [
       "Ok(shape: (2, 9)\n",
       "┌─────┬─────┬─────┬─────┬─────┬─────┬─────┬─────┬─────┐\n",
       "│ A   ┆ B   ┆ C   ┆ D   ┆ ... ┆ F   ┆ G   ┆ H   ┆ I   │\n",
       "│ --- ┆ --- ┆ --- ┆ --- ┆     ┆ --- ┆ --- ┆ --- ┆ --- │\n",
       "│ str ┆ i32 ┆ i32 ┆ i32 ┆     ┆ i32 ┆ i32 ┆ i32 ┆ i32 │\n",
       "╞═════╪═════╪═════╪═════╪═════╪═════╪═════╪═════╪═════╡\n",
       "│ a   ┆ 1   ┆ 10  ┆ 2   ┆ ... ┆ 2   ┆ 2   ┆ 2   ┆ 2   │\n",
       "├╌╌╌╌╌┼╌╌╌╌╌┼╌╌╌╌╌┼╌╌╌╌╌┼╌╌╌╌╌┼╌╌╌╌╌┼╌╌╌╌╌┼╌╌╌╌╌┼╌╌╌╌╌┤\n",
       "│ b   ┆ 3   ┆ 11  ┆ 4   ┆ ... ┆ 6   ┆ 6   ┆ 6   ┆ 6   │\n",
       "└─────┴─────┴─────┴─────┴─────┴─────┴─────┴─────┴─────┘)"
      ]
     },
     "execution_count": 22,
     "metadata": {},
     "output_type": "execute_result"
    }
   ],
   "source": [
    "df.filter(&df.column(\"B\").unwrap().lt_eq(4))"
   ]
  },
  {
   "cell_type": "markdown",
   "metadata": {},
   "source": [
    "### 複数条件\n",
    "ChunkedArrayはbit演算ができる"
   ]
  },
  {
   "cell_type": "code",
   "execution_count": 23,
   "metadata": {},
   "outputs": [
    {
     "data": {
      "text/plain": [
       "Ok(shape: (2, 9)\n",
       "┌─────┬─────┬─────┬─────┬─────┬─────┬─────┬─────┬─────┐\n",
       "│ A   ┆ B   ┆ C   ┆ D   ┆ ... ┆ F   ┆ G   ┆ H   ┆ I   │\n",
       "│ --- ┆ --- ┆ --- ┆ --- ┆     ┆ --- ┆ --- ┆ --- ┆ --- │\n",
       "│ str ┆ i32 ┆ i32 ┆ i32 ┆     ┆ i32 ┆ i32 ┆ i32 ┆ i32 │\n",
       "╞═════╪═════╪═════╪═════╪═════╪═════╪═════╪═════╪═════╡\n",
       "│ a   ┆ 1   ┆ 10  ┆ 2   ┆ ... ┆ 2   ┆ 2   ┆ 2   ┆ 2   │\n",
       "├╌╌╌╌╌┼╌╌╌╌╌┼╌╌╌╌╌┼╌╌╌╌╌┼╌╌╌╌╌┼╌╌╌╌╌┼╌╌╌╌╌┼╌╌╌╌╌┼╌╌╌╌╌┤\n",
       "│ b   ┆ 3   ┆ 11  ┆ 4   ┆ ... ┆ 6   ┆ 6   ┆ 6   ┆ 6   │\n",
       "└─────┴─────┴─────┴─────┴─────┴─────┴─────┴─────┴─────┘)"
      ]
     },
     "execution_count": 23,
     "metadata": {},
     "output_type": "execute_result"
    }
   ],
   "source": [
    "df.filter(&(\n",
    "    df.column(\"B\").unwrap().equal(1) | df.column(\"C\").unwrap().not_equal(12)\n",
    "))"
   ]
  },
  {
   "cell_type": "markdown",
   "metadata": {},
   "source": [
    "### 含まれているかなどの演算"
   ]
  },
  {
   "cell_type": "code",
   "execution_count": 24,
   "metadata": {},
   "outputs": [
    {
     "data": {
      "text/plain": [
       "Ok(shape: (2, 9)\n",
       "┌─────┬─────┬─────┬─────┬─────┬─────┬─────┬─────┬─────┐\n",
       "│ A   ┆ B   ┆ C   ┆ D   ┆ ... ┆ F   ┆ G   ┆ H   ┆ I   │\n",
       "│ --- ┆ --- ┆ --- ┆ --- ┆     ┆ --- ┆ --- ┆ --- ┆ --- │\n",
       "│ str ┆ i32 ┆ i32 ┆ i32 ┆     ┆ i32 ┆ i32 ┆ i32 ┆ i32 │\n",
       "╞═════╪═════╪═════╪═════╪═════╪═════╪═════╪═════╪═════╡\n",
       "│ a   ┆ 1   ┆ 10  ┆ 2   ┆ ... ┆ 2   ┆ 2   ┆ 2   ┆ 2   │\n",
       "├╌╌╌╌╌┼╌╌╌╌╌┼╌╌╌╌╌┼╌╌╌╌╌┼╌╌╌╌╌┼╌╌╌╌╌┼╌╌╌╌╌┼╌╌╌╌╌┼╌╌╌╌╌┤\n",
       "│ b   ┆ 3   ┆ 11  ┆ 4   ┆ ... ┆ 6   ┆ 6   ┆ 6   ┆ 6   │\n",
       "└─────┴─────┴─────┴─────┴─────┴─────┴─────┴─────┴─────┘)"
      ]
     },
     "execution_count": 24,
     "metadata": {},
     "output_type": "execute_result"
    }
   ],
   "source": [
    "let v: Vec<i32> = vec![1, 3];\n",
    "let mask: ChunkedArray<BooleanType> = df.column(\"B\").unwrap().i32()\n",
    "            .unwrap().into_iter().map(|x| v.contains(&x.unwrap())).collect();\n",
    "\n",
    "df.filter(&mask)"
   ]
  },
  {
   "cell_type": "markdown",
   "metadata": {},
   "source": [
    "## 重複行"
   ]
  },
  {
   "cell_type": "code",
   "execution_count": 25,
   "metadata": {},
   "outputs": [
    {
     "data": {
      "text/plain": [
       "shape: (3, 2)\n",
       "┌─────┬─────┐\n",
       "│ A   ┆ B   │\n",
       "│ --- ┆ --- │\n",
       "│ i32 ┆ i32 │\n",
       "╞═════╪═════╡\n",
       "│ 1   ┆ 1   │\n",
       "├╌╌╌╌╌┼╌╌╌╌╌┤\n",
       "│ 2   ┆ 2   │\n",
       "├╌╌╌╌╌┼╌╌╌╌╌┤\n",
       "│ 2   ┆ 2   │\n",
       "└─────┴─────┘"
      ]
     },
     "execution_count": 25,
     "metadata": {},
     "output_type": "execute_result"
    }
   ],
   "source": [
    "let mut dup_df = df!(\"A\" => &[1, 2, 2], \"B\" => &[1, 2, 2]).unwrap();\n",
    "dup_df"
   ]
  },
  {
   "cell_type": "markdown",
   "metadata": {},
   "source": [
    "### 重複行の抽出"
   ]
  },
  {
   "cell_type": "code",
   "execution_count": 26,
   "metadata": {},
   "outputs": [
    {
     "data": {
      "text/plain": [
       "Ok(shape: (2, 2)\n",
       "┌─────┬─────┐\n",
       "│ A   ┆ B   │\n",
       "│ --- ┆ --- │\n",
       "│ i32 ┆ i32 │\n",
       "╞═════╪═════╡\n",
       "│ 2   ┆ 2   │\n",
       "├╌╌╌╌╌┼╌╌╌╌╌┤\n",
       "│ 2   ┆ 2   │\n",
       "└─────┴─────┘)"
      ]
     },
     "execution_count": 26,
     "metadata": {},
     "output_type": "execute_result"
    }
   ],
   "source": [
    "dup_df.filter(&dup_df.is_duplicated().unwrap())"
   ]
  },
  {
   "cell_type": "markdown",
   "metadata": {},
   "source": [
    "### 重複行の削除"
   ]
  },
  {
   "cell_type": "code",
   "execution_count": 27,
   "metadata": {},
   "outputs": [
    {
     "data": {
      "text/plain": [
       "Ok(shape: (2, 2)\n",
       "┌─────┬─────┐\n",
       "│ A   ┆ B   │\n",
       "│ --- ┆ --- │\n",
       "│ i32 ┆ i32 │\n",
       "╞═════╪═════╡\n",
       "│ 1   ┆ 1   │\n",
       "├╌╌╌╌╌┼╌╌╌╌╌┤\n",
       "│ 2   ┆ 2   │\n",
       "└─────┴─────┘)"
      ]
     },
     "execution_count": 27,
     "metadata": {},
     "output_type": "execute_result"
    }
   ],
   "source": [
    "dup_df.drop_duplicates(true, None)"
   ]
  },
  {
   "cell_type": "markdown",
   "metadata": {},
   "source": [
    "## ndarrayへの変換\n",
    "型が必要。"
   ]
  },
  {
   "cell_type": "code",
   "execution_count": 28,
   "metadata": {},
   "outputs": [
    {
     "data": {
      "text/plain": [
       "Ok([[1.0, 2.0],\n",
       " [2.0, 3.0],\n",
       " [3.0, 4.0]], shape=[3, 2], strides=[1, 3], layout=Ff (0xa), const ndim=2)"
      ]
     },
     "execution_count": 28,
     "metadata": {},
     "output_type": "execute_result"
    }
   ],
   "source": [
    "let arr = df!(\"A\" => &[1, 2, 3], \"B\" => &[2, 3, 4]).unwrap();\n",
    "arr.to_ndarray::<Float64Type>()"
   ]
  },
  {
   "cell_type": "code",
   "execution_count": 29,
   "metadata": {},
   "outputs": [
    {
     "data": {
      "text/plain": [
       "Some([Utf8(\"b\"), Int32(3), Int32(11), Int32(4), Int32(6), Int32(6), Int32(6), Int32(6), Int32(6)])"
      ]
     },
     "execution_count": 29,
     "metadata": {},
     "output_type": "execute_result"
    }
   ],
   "source": [
    "df.get(1)"
   ]
  },
  {
   "cell_type": "markdown",
   "metadata": {},
   "source": [
    "## Group By"
   ]
  },
  {
   "cell_type": "code",
   "execution_count": 30,
   "metadata": {},
   "outputs": [
    {
     "name": "stdout",
     "output_type": "stream",
     "text": [
      "shape: (5, 3)\n",
      "┌────────────┬──────┬──────┐\n",
      "│ date       ┆ temp ┆ rain │\n",
      "│ ---        ┆ ---  ┆ ---  │\n",
      "│ date       ┆ i32  ┆ f64  │\n",
      "╞════════════╪══════╪══════╡\n",
      "│ 2020-08-21 ┆ 20   ┆ 0.2  │\n",
      "├╌╌╌╌╌╌╌╌╌╌╌╌┼╌╌╌╌╌╌┼╌╌╌╌╌╌┤\n",
      "│ 2020-08-21 ┆ 10   ┆ 0.1  │\n",
      "├╌╌╌╌╌╌╌╌╌╌╌╌┼╌╌╌╌╌╌┼╌╌╌╌╌╌┤\n",
      "│ 2020-08-22 ┆ 7    ┆ 0.3  │\n",
      "├╌╌╌╌╌╌╌╌╌╌╌╌┼╌╌╌╌╌╌┼╌╌╌╌╌╌┤\n",
      "│ 2020-08-23 ┆ 9    ┆ 0.1  │\n",
      "├╌╌╌╌╌╌╌╌╌╌╌╌┼╌╌╌╌╌╌┼╌╌╌╌╌╌┤\n",
      "│ 2020-08-22 ┆ 1    ┆ 0.01 │\n",
      "└────────────┴──────┴──────┘\n"
     ]
    }
   ],
   "source": [
    "// docs example\n",
    "\n",
    "let dates = &[\n",
    "\"2020-08-21\",\n",
    "\"2020-08-21\",\n",
    "\"2020-08-22\",\n",
    "\"2020-08-23\",\n",
    "\"2020-08-22\",\n",
    "];\n",
    "// date format\n",
    "let fmt = \"%Y-%m-%d\";\n",
    "// create date series\n",
    "let s0 = DateChunked::parse_from_str_slice(\"date\", dates, fmt)\n",
    "        .into_series();\n",
    "// create temperature series\n",
    "let s1 = Series::new(\"temp\", [20, 10, 7, 9, 1].as_ref());\n",
    "// create rain series\n",
    "let s2 = Series::new(\"rain\", [0.2, 0.1, 0.3, 0.1, 0.01].as_ref());\n",
    "// create a new DataFrame\n",
    "let df = DataFrame::new(vec![s0, s1, s2]).unwrap();\n",
    "println!(\"{:?}\", df);"
   ]
  },
  {
   "cell_type": "markdown",
   "metadata": {},
   "source": [
    "### Build inの演算\n",
    "\n",
    "- count\n",
    "- first\n",
    "- last\n",
    "- sum\n",
    "- min\n",
    "- max\n",
    "- mean\n",
    "- median\n",
    "- var\n",
    "- std\n",
    "- count\n",
    "- quantile\n",
    "- n_unique\n",
    "\n",
    "ができる。使い方は\n",
    "\n",
    "1. 特定の列でGroupby\n",
    "2. 演算したい列を指定 (指定なしなら全部)\n",
    "3. 演算"
   ]
  },
  {
   "cell_type": "code",
   "execution_count": 33,
   "metadata": {},
   "outputs": [
    {
     "data": {
      "text/plain": [
       "Ok(GroupBy { df: shape: (5, 3)\n",
       "┌────────────┬──────┬──────┐\n",
       "│ date       ┆ temp ┆ rain │\n",
       "│ ---        ┆ ---  ┆ ---  │\n",
       "│ date       ┆ i32  ┆ f64  │\n",
       "╞════════════╪══════╪══════╡\n",
       "│ 2020-08-21 ┆ 20   ┆ 0.2  │\n",
       "├╌╌╌╌╌╌╌╌╌╌╌╌┼╌╌╌╌╌╌┼╌╌╌╌╌╌┤\n",
       "│ 2020-08-21 ┆ 10   ┆ 0.1  │\n",
       "├╌╌╌╌╌╌╌╌╌╌╌╌┼╌╌╌╌╌╌┼╌╌╌╌╌╌┤\n",
       "│ 2020-08-22 ┆ 7    ┆ 0.3  │\n",
       "├╌╌╌╌╌╌╌╌╌╌╌╌┼╌╌╌╌╌╌┼╌╌╌╌╌╌┤\n",
       "│ 2020-08-23 ┆ 9    ┆ 0.1  │\n",
       "├╌╌╌╌╌╌╌╌╌╌╌╌┼╌╌╌╌╌╌┼╌╌╌╌╌╌┤\n",
       "│ 2020-08-22 ┆ 1    ┆ 0.01 │\n",
       "└────────────┴──────┴──────┘, selected_keys: [shape: (5,)\n",
       "Series: 'date' [date]\n",
       "[\n",
       "\t2020-08-21\n",
       "\t2020-08-21\n",
       "\t2020-08-22\n",
       "\t2020-08-23\n",
       "\t2020-08-22\n",
       "]], groups: Idx(GroupsIdx { sorted: false, first: [3, 2, 0], all: [[3], [2, 4], [0, 1]] }), selected_agg: None })"
      ]
     },
     "execution_count": 33,
     "metadata": {},
     "output_type": "execute_result"
    }
   ],
   "source": [
    "df.groupby(&[\"date\"])"
   ]
  },
  {
   "cell_type": "code",
   "execution_count": 34,
   "metadata": {},
   "outputs": [
    {
     "data": {
      "text/plain": [
       "Ok(shape: (3, 3)\n",
       "┌────────────┬──────────────┬──────────────┐\n",
       "│ date       ┆ temp_agg_var ┆ rain_agg_var │\n",
       "│ ---        ┆ ---          ┆ ---          │\n",
       "│ date       ┆ f64          ┆ f64          │\n",
       "╞════════════╪══════════════╪══════════════╡\n",
       "│ 2020-08-23 ┆ NaN          ┆ NaN          │\n",
       "├╌╌╌╌╌╌╌╌╌╌╌╌┼╌╌╌╌╌╌╌╌╌╌╌╌╌╌┼╌╌╌╌╌╌╌╌╌╌╌╌╌╌┤\n",
       "│ 2020-08-22 ┆ 18.0         ┆ 0.04205      │\n",
       "├╌╌╌╌╌╌╌╌╌╌╌╌┼╌╌╌╌╌╌╌╌╌╌╌╌╌╌┼╌╌╌╌╌╌╌╌╌╌╌╌╌╌┤\n",
       "│ 2020-08-21 ┆ 50.0         ┆ 0.005        │\n",
       "└────────────┴──────────────┴──────────────┘)"
      ]
     },
     "execution_count": 34,
     "metadata": {},
     "output_type": "execute_result"
    }
   ],
   "source": [
    "df.groupby(&[\"date\"]).unwrap().var()"
   ]
  },
  {
   "cell_type": "code",
   "execution_count": 36,
   "metadata": {},
   "outputs": [
    {
     "data": {
      "text/plain": [
       "Ok(shape: (3, 2)\n",
       "┌────────────┬──────────┐\n",
       "│ date       ┆ temp_sum │\n",
       "│ ---        ┆ ---      │\n",
       "│ date       ┆ i32      │\n",
       "╞════════════╪══════════╡\n",
       "│ 2020-08-21 ┆ 30       │\n",
       "├╌╌╌╌╌╌╌╌╌╌╌╌┼╌╌╌╌╌╌╌╌╌╌┤\n",
       "│ 2020-08-23 ┆ 9        │\n",
       "├╌╌╌╌╌╌╌╌╌╌╌╌┼╌╌╌╌╌╌╌╌╌╌┤\n",
       "│ 2020-08-22 ┆ 8        │\n",
       "└────────────┴──────────┘)"
      ]
     },
     "execution_count": 36,
     "metadata": {},
     "output_type": "execute_result"
    }
   ],
   "source": [
    "df.groupby(&[\"date\"]).unwrap().select(&[\"temp\"]).sum()"
   ]
  },
  {
   "cell_type": "code",
   "execution_count": 37,
   "metadata": {},
   "outputs": [
    {
     "data": {
      "text/plain": [
       "Ok(shape: (3, 5)\n",
       "┌────────────┬──────────┬──────────┬────────────┬────────────┐\n",
       "│ date       ┆ temp_sum ┆ temp_min ┆ rain_count ┆ rain_first │\n",
       "│ ---        ┆ ---      ┆ ---      ┆ ---        ┆ ---        │\n",
       "│ date       ┆ i32      ┆ i32      ┆ u32        ┆ f64        │\n",
       "╞════════════╪══════════╪══════════╪════════════╪════════════╡\n",
       "│ 2020-08-21 ┆ 30       ┆ 10       ┆ 2          ┆ 0.2        │\n",
       "├╌╌╌╌╌╌╌╌╌╌╌╌┼╌╌╌╌╌╌╌╌╌╌┼╌╌╌╌╌╌╌╌╌╌┼╌╌╌╌╌╌╌╌╌╌╌╌┼╌╌╌╌╌╌╌╌╌╌╌╌┤\n",
       "│ 2020-08-22 ┆ 8        ┆ 1        ┆ 2          ┆ 0.3        │\n",
       "├╌╌╌╌╌╌╌╌╌╌╌╌┼╌╌╌╌╌╌╌╌╌╌┼╌╌╌╌╌╌╌╌╌╌┼╌╌╌╌╌╌╌╌╌╌╌╌┼╌╌╌╌╌╌╌╌╌╌╌╌┤\n",
       "│ 2020-08-23 ┆ 9        ┆ 9        ┆ 1          ┆ 0.1        │\n",
       "└────────────┴──────────┴──────────┴────────────┴────────────┘)"
      ]
     },
     "execution_count": 37,
     "metadata": {},
     "output_type": "execute_result"
    }
   ],
   "source": [
    "// 複数の演算をまとめてやりたいとき\n",
    "df.groupby(&[\"date\"]).unwrap()\n",
    "    .agg(&[(\"temp\", &[\"sum\", \"min\"]), (\"rain\", &[\"count\", \"first\"])])"
   ]
  },
  {
   "cell_type": "markdown",
   "metadata": {},
   "source": [
    "### 任意の演算\n",
    "\n",
    "Group毎の任意の演算しかわからなかった"
   ]
  },
  {
   "cell_type": "code",
   "execution_count": 38,
   "metadata": {},
   "outputs": [
    {
     "name": "stdout",
     "output_type": "stream",
     "text": [
      "shape: (1, 3)\n",
      "┌────────────┬──────┬──────┐\n",
      "│ date       ┆ temp ┆ rain │\n",
      "│ ---        ┆ ---  ┆ ---  │\n",
      "│ date       ┆ i32  ┆ f64  │\n",
      "╞════════════╪══════╪══════╡\n",
      "│ 2020-08-23 ┆ 9    ┆ 0.1  │\n",
      "└────────────┴──────┴──────┘\n",
      "shape: (2, 3)\n",
      "┌────────────┬──────┬──────┐\n",
      "│ date       ┆ temp ┆ rain │\n",
      "│ ---        ┆ ---  ┆ ---  │\n",
      "│ date       ┆ i32  ┆ f64  │\n",
      "╞════════════╪══════╪══════╡\n",
      "│ 2020-08-21 ┆ 20   ┆ 0.2  │\n",
      "├╌╌╌╌╌╌╌╌╌╌╌╌┼╌╌╌╌╌╌┼╌╌╌╌╌╌┤\n",
      "│ 2020-08-21 ┆ 10   ┆ 0.1  │\n",
      "└────────────┴──────┴──────┘\n",
      "shape: (2, 3)\n",
      "┌────────────┬──────┬──────┐\n",
      "│ date       ┆ temp ┆ rain │\n",
      "│ ---        ┆ ---  ┆ ---  │\n",
      "│ date       ┆ i32  ┆ f64  │\n",
      "╞════════════╪══════╪══════╡\n",
      "│ 2020-08-22 ┆ 7    ┆ 0.3  │\n",
      "├╌╌╌╌╌╌╌╌╌╌╌╌┼╌╌╌╌╌╌┼╌╌╌╌╌╌┤\n",
      "│ 2020-08-22 ┆ 1    ┆ 0.01 │\n",
      "└────────────┴──────┴──────┘\n"
     ]
    }
   ],
   "source": [
    "df.groupby(&[\"date\"]).unwrap()\n",
    "    .apply(|x| { println!(\"{:?}\", x); Ok(x)});"
   ]
  },
  {
   "cell_type": "markdown",
   "metadata": {},
   "source": [
    "## vstack, hstack"
   ]
  },
  {
   "cell_type": "code",
   "execution_count": 39,
   "metadata": {},
   "outputs": [],
   "source": [
    "let df1 = df!(\n",
    "    \"A\" => &[1, 2, 3],\n",
    "    \"B\" => &[2, 3, 4]\n",
    ").unwrap();\n",
    "\n",
    "let df1_t = df!(\n",
    "    \"A\" => &[4, 5, 6],\n",
    "    \"B\" => &[5, 6, 7]\n",
    ").unwrap();\n",
    "\n",
    "\n",
    "let df2 = df!(\n",
    "    \"C\" => &[\"a\", \"b\", \"c\"],\n",
    "    \"D\" => &[0.1, 0.2, 0.3]\n",
    ").unwrap();\n",
    "\n",
    "let s1 = Series::new(\"S1\", [10, 11, 12]);\n",
    "let s2 = Series::new(\"S2\", [\"ABC\", \"NMK\", \"XYZ\"]);\n"
   ]
  },
  {
   "cell_type": "code",
   "execution_count": 40,
   "metadata": {},
   "outputs": [
    {
     "data": {
      "text/plain": [
       "Ok(shape: (3, 4)\n",
       "┌─────┬─────┬─────┬─────┐\n",
       "│ A   ┆ B   ┆ S1  ┆ S2  │\n",
       "│ --- ┆ --- ┆ --- ┆ --- │\n",
       "│ i32 ┆ i32 ┆ i32 ┆ str │\n",
       "╞═════╪═════╪═════╪═════╡\n",
       "│ 1   ┆ 2   ┆ 10  ┆ ABC │\n",
       "├╌╌╌╌╌┼╌╌╌╌╌┼╌╌╌╌╌┼╌╌╌╌╌┤\n",
       "│ 2   ┆ 3   ┆ 11  ┆ NMK │\n",
       "├╌╌╌╌╌┼╌╌╌╌╌┼╌╌╌╌╌┼╌╌╌╌╌┤\n",
       "│ 3   ┆ 4   ┆ 12  ┆ XYZ │\n",
       "└─────┴─────┴─────┴─────┘)"
      ]
     },
     "execution_count": 40,
     "metadata": {},
     "output_type": "execute_result"
    }
   ],
   "source": [
    "df1.hstack(&[s1, s2])"
   ]
  },
  {
   "cell_type": "code",
   "execution_count": 41,
   "metadata": {},
   "outputs": [
    {
     "data": {
      "text/plain": [
       "Ok(shape: (3, 4)\n",
       "┌─────┬─────┬─────┬─────┐\n",
       "│ A   ┆ B   ┆ C   ┆ D   │\n",
       "│ --- ┆ --- ┆ --- ┆ --- │\n",
       "│ i32 ┆ i32 ┆ str ┆ f64 │\n",
       "╞═════╪═════╪═════╪═════╡\n",
       "│ 1   ┆ 2   ┆ a   ┆ 0.1 │\n",
       "├╌╌╌╌╌┼╌╌╌╌╌┼╌╌╌╌╌┼╌╌╌╌╌┤\n",
       "│ 2   ┆ 3   ┆ b   ┆ 0.2 │\n",
       "├╌╌╌╌╌┼╌╌╌╌╌┼╌╌╌╌╌┼╌╌╌╌╌┤\n",
       "│ 3   ┆ 4   ┆ c   ┆ 0.3 │\n",
       "└─────┴─────┴─────┴─────┘)"
      ]
     },
     "execution_count": 41,
     "metadata": {},
     "output_type": "execute_result"
    }
   ],
   "source": [
    "let s_vec: Vec<Series> = df2.iter().map(|s| s.clone()).collect();\n",
    "df1.hstack(&s_vec)"
   ]
  },
  {
   "cell_type": "code",
   "execution_count": 42,
   "metadata": {},
   "outputs": [
    {
     "data": {
      "text/plain": [
       "Err(SchemaMisMatch(\"cannot vstack: because column datatypes (dtypes) in the two DataFrames do not match for left.name='A' with left.dtype=i32 != right.dtype=str with right.name='C'\"))"
      ]
     },
     "execution_count": 42,
     "metadata": {},
     "output_type": "execute_result"
    }
   ],
   "source": [
    "df1.vstack(&df2)"
   ]
  },
  {
   "cell_type": "code",
   "execution_count": 43,
   "metadata": {},
   "outputs": [
    {
     "data": {
      "text/plain": [
       "Ok(shape: (6, 2)\n",
       "┌─────┬─────┐\n",
       "│ A   ┆ B   │\n",
       "│ --- ┆ --- │\n",
       "│ i32 ┆ i32 │\n",
       "╞═════╪═════╡\n",
       "│ 1   ┆ 2   │\n",
       "├╌╌╌╌╌┼╌╌╌╌╌┤\n",
       "│ 2   ┆ 3   │\n",
       "├╌╌╌╌╌┼╌╌╌╌╌┤\n",
       "│ 3   ┆ 4   │\n",
       "├╌╌╌╌╌┼╌╌╌╌╌┤\n",
       "│ 4   ┆ 5   │\n",
       "├╌╌╌╌╌┼╌╌╌╌╌┤\n",
       "│ 5   ┆ 6   │\n",
       "├╌╌╌╌╌┼╌╌╌╌╌┤\n",
       "│ 6   ┆ 7   │\n",
       "└─────┴─────┘)"
      ]
     },
     "execution_count": 43,
     "metadata": {},
     "output_type": "execute_result"
    }
   ],
   "source": [
    "df1.vstack(&df1_t)"
   ]
  },
  {
   "cell_type": "markdown",
   "metadata": {},
   "source": [
    "# Join"
   ]
  },
  {
   "cell_type": "code",
   "execution_count": 44,
   "metadata": {},
   "outputs": [],
   "source": [
    "let df1: DataFrame = df!(\"Fruit\" => &[\"Apple\", \"Banana\", \"Pear\"],\n",
    "                         \"Origin\" => &[\"America\", \"Hawai\", \"Italy\"],\n",
    "                         \"Phosphorus (mg/100g)\" => &[11, 22, 12]).unwrap();\n",
    "let df2: DataFrame = df!(\"Name\" => &[\"Apple\", \"Banana\", \"Pear\"],\n",
    "                         \"Origin\" => &[\"France\", \"Hawai\", \"Italy\"],\n",
    "                         \"Potassium (mg/100g)\" => &[107, 358, 115]).unwrap();"
   ]
  },
  {
   "cell_type": "code",
   "execution_count": null,
   "metadata": {},
   "outputs": [],
   "source": [
    "// df1.inner_join(&df2, \"Fruit\", \"Name\")\n",
    "df1.join(&df2, \"Fruit\", \"Name\", JoinType::Inner, None)"
   ]
  },
  {
   "cell_type": "code",
   "execution_count": 71,
   "metadata": {},
   "outputs": [
    {
     "data": {
      "text/plain": [
       "Ok(shape: (4, 4)\n",
       "+----------------------+--------+---------+---------------------+\n",
       "| Phosphorus (mg/100g) | Fruit  | Origin  | Potassium (mg/100g) |\n",
       "| ---                  | ---    | ---     | ---                 |\n",
       "| i32                  | str    | str     | i32                 |\n",
       "+======================+========+=========+=====================+\n",
       "| null                 | Apple  | France  | 107                 |\n",
       "+----------------------+--------+---------+---------------------+\n",
       "| 22                   | Banana | Hawai   | 358                 |\n",
       "+----------------------+--------+---------+---------------------+\n",
       "| 12                   | Pear   | Italy   | 115                 |\n",
       "+----------------------+--------+---------+---------------------+\n",
       "| 11                   | Apple  | America | null                |\n",
       "+----------------------+--------+---------+---------------------+\n",
       ")"
      ]
     },
     "execution_count": 71,
     "metadata": {},
     "output_type": "execute_result"
    }
   ],
   "source": [
    "// df1.outer_join(&df2, &[\"Fruit\", \"Origin\"], &[\"Name\", \"Origin\"])\n",
    "df1.join(&df2, &[\"Fruit\", \"Origin\"], &[\"Name\", \"Origin\"], JoinType::Outer, None)"
   ]
  },
  {
   "cell_type": "code",
   "execution_count": 72,
   "metadata": {},
   "outputs": [
    {
     "data": {
      "text/plain": [
       "Ok(shape: (3, 5)\n",
       "+--------+---------+----------------------+--------+---------------------+\n",
       "| Fruit  | Origin  | Phosphorus (mg/100g) | Name   | Potassium (mg/100g) |\n",
       "| ---    | ---     | ---                  | ---    | ---                 |\n",
       "| str    | str     | i32                  | str    | i32                 |\n",
       "+========+=========+======================+========+=====================+\n",
       "| Apple  | America | 11                   | null   | null                |\n",
       "+--------+---------+----------------------+--------+---------------------+\n",
       "| Banana | Hawai   | 22                   | Banana | 358                 |\n",
       "+--------+---------+----------------------+--------+---------------------+\n",
       "| Pear   | Italy   | 12                   | Pear   | 115                 |\n",
       "+--------+---------+----------------------+--------+---------------------+\n",
       ")"
      ]
     },
     "execution_count": 72,
     "metadata": {},
     "output_type": "execute_result"
    }
   ],
   "source": [
    "df1.left_join(&df2, \"Origin\", \"Origin\")"
   ]
  },
  {
   "cell_type": "code",
   "execution_count": null,
   "metadata": {},
   "outputs": [],
   "source": []
  }
 ],
 "metadata": {
  "kernelspec": {
   "display_name": "Rust",
   "language": "rust",
   "name": "rust"
  },
  "language_info": {
   "codemirror_mode": "rust",
   "file_extension": ".rs",
   "mimetype": "text/rust",
   "name": "Rust",
   "pygment_lexer": "rust",
   "version": ""
  }
 },
 "nbformat": 4,
 "nbformat_minor": 4
}
