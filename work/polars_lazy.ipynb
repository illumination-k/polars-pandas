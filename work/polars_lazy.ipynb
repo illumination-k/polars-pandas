{
 "cells": [
  {
   "cell_type": "markdown",
   "id": "d5915b61-93ad-4992-9fee-ba592612c733",
   "metadata": {},
   "source": [
    "# Lazy Polars"
   ]
  },
  {
   "cell_type": "code",
   "execution_count": 2,
   "id": "86578a0a-4df4-4142-ba56-82bd3f06ee02",
   "metadata": {},
   "outputs": [],
   "source": [
    ":dep polars = { version = \"0.20.0\", features = [\"ndarray\", \"random\"]}"
   ]
  },
  {
   "cell_type": "code",
   "execution_count": 5,
   "id": "80181c4c-d947-400e-b9be-f6e53b5909a6",
   "metadata": {},
   "outputs": [],
   "source": [
    ":dep polars-lazy = \"0.20.0\""
   ]
  },
  {
   "cell_type": "code",
   "execution_count": 9,
   "id": "d2de30d0-1eeb-49b3-b691-45493c9e1bcd",
   "metadata": {},
   "outputs": [],
   "source": [
    "#[macro_use] extern crate polars;\n",
    "use polars::prelude::*;\n",
    "use polars_lazy::prelude::*;"
   ]
  },
  {
   "cell_type": "code",
   "execution_count": 18,
   "id": "6292299a-0aca-4342-ae07-51e71327d587",
   "metadata": {},
   "outputs": [
    {
     "data": {
      "text/plain": [
       "shape: (3, 4)\n",
       "┌─────┬─────┬─────┬─────┐\n",
       "│ A   ┆ B   ┆ C   ┆ D   │\n",
       "│ --- ┆ --- ┆ --- ┆ --- │\n",
       "│ str ┆ i32 ┆ i32 ┆ i32 │\n",
       "╞═════╪═════╪═════╪═════╡\n",
       "│ a   ┆ 1   ┆ 10  ┆ 2   │\n",
       "├╌╌╌╌╌┼╌╌╌╌╌┼╌╌╌╌╌┼╌╌╌╌╌┤\n",
       "│ b   ┆ 3   ┆ 11  ┆ 4   │\n",
       "├╌╌╌╌╌┼╌╌╌╌╌┼╌╌╌╌╌┼╌╌╌╌╌┤\n",
       "│ a   ┆ 5   ┆ 12  ┆ 6   │\n",
       "└─────┴─────┴─────┴─────┘"
      ]
     },
     "execution_count": 18,
     "metadata": {},
     "output_type": "execute_result"
    }
   ],
   "source": [
    "let df = df!(\"A\" => &[\"a\", \"b\", \"a\"],\n",
    "             \"B\" => &[1, 3, 5],\n",
    "             \"C\" => &[10, 11, 12],\n",
    "             \"D\" => &[2, 4, 6]\n",
    "    ).unwrap();\n",
    "df"
   ]
  },
  {
   "cell_type": "code",
   "execution_count": 20,
   "id": "5b5a13e5-bd55-4c00-afb0-68dc1f15ae18",
   "metadata": {},
   "outputs": [
    {
     "data": {
      "text/plain": [
       "shape: (3, 1)\n",
       "┌─────┐\n",
       "│ A   │\n",
       "│ --- │\n",
       "│ str │\n",
       "╞═════╡\n",
       "│ a   │\n",
       "├╌╌╌╌╌┤\n",
       "│ b   │\n",
       "├╌╌╌╌╌┤\n",
       "│ a   │\n",
       "└─────┘"
      ]
     },
     "execution_count": 20,
     "metadata": {},
     "output_type": "execute_result"
    }
   ],
   "source": [
    "let res = df.lazy().select(&[col(\"A\")]).collect().unwrap();\n",
    "res"
   ]
  },
  {
   "cell_type": "code",
   "execution_count": 21,
   "id": "67c5bc15-c173-4c61-80c0-cf86d7aad999",
   "metadata": {},
   "outputs": [
    {
     "ename": "Error",
     "evalue": "expected value, found macro `df`",
     "output_type": "error",
     "traceback": [
      "df",
      "^^ not a value",
      "expected value, found macro `df`"
     ]
    }
   ],
   "source": [
    "df"
   ]
  },
  {
   "cell_type": "code",
   "execution_count": 15,
   "id": "bea3e51f-f3cf-470e-8763-8d40af329530",
   "metadata": {},
   "outputs": [
    {
     "ename": "Error",
     "evalue": "expected value, found macro `df`",
     "output_type": "error",
     "traceback": [
      "df.lazy().select(&[cols(&[\"A\", \"B\"])]).collect()",
      "^^ not a value",
      "expected value, found macro `df`"
     ]
    }
   ],
   "source": [
    "df.lazy().select(&[cols(&[\"A\", \"B\"])]).collect()"
   ]
  },
  {
   "cell_type": "code",
   "execution_count": null,
   "id": "9c647b09-50eb-46a8-84bc-85d00d49fb89",
   "metadata": {},
   "outputs": [],
   "source": []
  }
 ],
 "metadata": {
  "kernelspec": {
   "display_name": "Rust",
   "language": "rust",
   "name": "rust"
  },
  "language_info": {
   "codemirror_mode": "rust",
   "file_extension": ".rs",
   "mimetype": "text/rust",
   "name": "Rust",
   "pygment_lexer": "rust",
   "version": ""
  }
 },
 "nbformat": 4,
 "nbformat_minor": 5
}
