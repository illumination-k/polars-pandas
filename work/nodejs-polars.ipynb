{
 "cells": [
  {
   "cell_type": "code",
   "execution_count": 1,
   "id": "601f209a-48e5-431b-ac65-d654004a2093",
   "metadata": {},
   "outputs": [],
   "source": [
    "const pl = require(\"nodejs-polars\");"
   ]
  },
  {
   "cell_type": "code",
   "execution_count": 2,
   "id": "2ca95ebc-5712-4752-8b5b-1b26c99f623b",
   "metadata": {},
   "outputs": [
    {
     "data": {
      "text/plain": [
       "shape: (3,)\n",
       "Series: 'foo' [f64]\n",
       "[\n",
       "\t1.0\n",
       "\t2.0\n",
       "\t3.0\n",
       "]"
      ]
     },
     "execution_count": 2,
     "metadata": {},
     "output_type": "execute_result"
    }
   ],
   "source": [
    "const fooSeries = pl.Series(\"foo\", [1, 2, 3])\n",
    "fooSeries"
   ]
  },
  {
   "cell_type": "code",
   "execution_count": null,
   "id": "712a5f38-7951-4484-a793-2f5d2c78ac8c",
   "metadata": {},
   "outputs": [],
   "source": []
  }
 ],
 "metadata": {
  "kernelspec": {
   "display_name": "JavaScript (Node.js)",
   "language": "javascript",
   "name": "javascript"
  },
  "language_info": {
   "file_extension": ".js",
   "mimetype": "application/javascript",
   "name": "javascript",
   "version": "16.14.2"
  }
 },
 "nbformat": 4,
 "nbformat_minor": 5
}
